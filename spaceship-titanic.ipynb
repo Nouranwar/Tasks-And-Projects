{
 "cells": [
  {
   "cell_type": "markdown",
   "id": "f035d30e",
   "metadata": {
    "papermill": {
     "duration": 0.012636,
     "end_time": "2023-10-05T11:36:32.261707",
     "exception": false,
     "start_time": "2023-10-05T11:36:32.249071",
     "status": "completed"
    },
    "tags": []
   },
   "source": [
    "# Import the libraries"
   ]
  },
  {
   "cell_type": "code",
   "execution_count": 8,
   "id": "43ee4ac8",
   "metadata": {
    "execution": {
     "iopub.execute_input": "2023-10-05T11:36:32.287209Z",
     "iopub.status.busy": "2023-10-05T11:36:32.286856Z",
     "iopub.status.idle": "2023-10-05T11:36:58.735073Z",
     "shell.execute_reply": "2023-10-05T11:36:58.733852Z"
    },
    "papermill": {
     "duration": 26.463541,
     "end_time": "2023-10-05T11:36:58.737498",
     "exception": false,
     "start_time": "2023-10-05T11:36:32.273957",
     "status": "completed"
    },
    "tags": []
   },
   "outputs": [],
   "source": [
    "import pandas as pd\n",
    "import numpy as np\n",
    "import matplotlib.pyplot as plt\n",
    "import seaborn as sns\n",
    "from miceforest import ImputationKernel\n",
    "import mglearn\n",
    "from sklearn.model_selection import train_test_split"
   ]
  },
  {
   "cell_type": "code",
   "execution_count": 9,
   "id": "7026c73b",
   "metadata": {
    "execution": {
     "iopub.execute_input": "2023-10-05T11:36:58.764836Z",
     "iopub.status.busy": "2023-10-05T11:36:58.764427Z",
     "iopub.status.idle": "2023-10-05T11:36:58.846397Z",
     "shell.execute_reply": "2023-10-05T11:36:58.845212Z"
    },
    "papermill": {
     "duration": 0.098286,
     "end_time": "2023-10-05T11:36:58.848593",
     "exception": false,
     "start_time": "2023-10-05T11:36:58.750307",
     "status": "completed"
    },
    "tags": []
   },
   "outputs": [
    {
     "data": {
      "text/html": [
       "<div>\n",
       "<style scoped>\n",
       "    .dataframe tbody tr th:only-of-type {\n",
       "        vertical-align: middle;\n",
       "    }\n",
       "\n",
       "    .dataframe tbody tr th {\n",
       "        vertical-align: top;\n",
       "    }\n",
       "\n",
       "    .dataframe thead th {\n",
       "        text-align: right;\n",
       "    }\n",
       "</style>\n",
       "<table border=\"1\" class=\"dataframe\">\n",
       "  <thead>\n",
       "    <tr style=\"text-align: right;\">\n",
       "      <th></th>\n",
       "      <th>PassengerId</th>\n",
       "      <th>HomePlanet</th>\n",
       "      <th>CryoSleep</th>\n",
       "      <th>Cabin</th>\n",
       "      <th>Destination</th>\n",
       "      <th>Age</th>\n",
       "      <th>VIP</th>\n",
       "      <th>RoomService</th>\n",
       "      <th>FoodCourt</th>\n",
       "      <th>ShoppingMall</th>\n",
       "      <th>Spa</th>\n",
       "      <th>VRDeck</th>\n",
       "      <th>Name</th>\n",
       "      <th>Transported</th>\n",
       "    </tr>\n",
       "  </thead>\n",
       "  <tbody>\n",
       "    <tr>\n",
       "      <th>0</th>\n",
       "      <td>0001_01</td>\n",
       "      <td>Europa</td>\n",
       "      <td>False</td>\n",
       "      <td>B/0/P</td>\n",
       "      <td>TRAPPIST-1e</td>\n",
       "      <td>39.0</td>\n",
       "      <td>False</td>\n",
       "      <td>0.0</td>\n",
       "      <td>0.0</td>\n",
       "      <td>0.0</td>\n",
       "      <td>0.0</td>\n",
       "      <td>0.0</td>\n",
       "      <td>Maham Ofracculy</td>\n",
       "      <td>False</td>\n",
       "    </tr>\n",
       "    <tr>\n",
       "      <th>1</th>\n",
       "      <td>0002_01</td>\n",
       "      <td>Earth</td>\n",
       "      <td>False</td>\n",
       "      <td>F/0/S</td>\n",
       "      <td>TRAPPIST-1e</td>\n",
       "      <td>24.0</td>\n",
       "      <td>False</td>\n",
       "      <td>109.0</td>\n",
       "      <td>9.0</td>\n",
       "      <td>25.0</td>\n",
       "      <td>549.0</td>\n",
       "      <td>44.0</td>\n",
       "      <td>Juanna Vines</td>\n",
       "      <td>True</td>\n",
       "    </tr>\n",
       "    <tr>\n",
       "      <th>2</th>\n",
       "      <td>0003_01</td>\n",
       "      <td>Europa</td>\n",
       "      <td>False</td>\n",
       "      <td>A/0/S</td>\n",
       "      <td>TRAPPIST-1e</td>\n",
       "      <td>58.0</td>\n",
       "      <td>True</td>\n",
       "      <td>43.0</td>\n",
       "      <td>3576.0</td>\n",
       "      <td>0.0</td>\n",
       "      <td>6715.0</td>\n",
       "      <td>49.0</td>\n",
       "      <td>Altark Susent</td>\n",
       "      <td>False</td>\n",
       "    </tr>\n",
       "    <tr>\n",
       "      <th>3</th>\n",
       "      <td>0003_02</td>\n",
       "      <td>Europa</td>\n",
       "      <td>False</td>\n",
       "      <td>A/0/S</td>\n",
       "      <td>TRAPPIST-1e</td>\n",
       "      <td>33.0</td>\n",
       "      <td>False</td>\n",
       "      <td>0.0</td>\n",
       "      <td>1283.0</td>\n",
       "      <td>371.0</td>\n",
       "      <td>3329.0</td>\n",
       "      <td>193.0</td>\n",
       "      <td>Solam Susent</td>\n",
       "      <td>False</td>\n",
       "    </tr>\n",
       "    <tr>\n",
       "      <th>4</th>\n",
       "      <td>0004_01</td>\n",
       "      <td>Earth</td>\n",
       "      <td>False</td>\n",
       "      <td>F/1/S</td>\n",
       "      <td>TRAPPIST-1e</td>\n",
       "      <td>16.0</td>\n",
       "      <td>False</td>\n",
       "      <td>303.0</td>\n",
       "      <td>70.0</td>\n",
       "      <td>151.0</td>\n",
       "      <td>565.0</td>\n",
       "      <td>2.0</td>\n",
       "      <td>Willy Santantines</td>\n",
       "      <td>True</td>\n",
       "    </tr>\n",
       "  </tbody>\n",
       "</table>\n",
       "</div>"
      ],
      "text/plain": [
       "  PassengerId HomePlanet CryoSleep  Cabin  Destination   Age    VIP  \\\n",
       "0     0001_01     Europa     False  B/0/P  TRAPPIST-1e  39.0  False   \n",
       "1     0002_01      Earth     False  F/0/S  TRAPPIST-1e  24.0  False   \n",
       "2     0003_01     Europa     False  A/0/S  TRAPPIST-1e  58.0   True   \n",
       "3     0003_02     Europa     False  A/0/S  TRAPPIST-1e  33.0  False   \n",
       "4     0004_01      Earth     False  F/1/S  TRAPPIST-1e  16.0  False   \n",
       "\n",
       "   RoomService  FoodCourt  ShoppingMall     Spa  VRDeck               Name  \\\n",
       "0          0.0        0.0           0.0     0.0     0.0    Maham Ofracculy   \n",
       "1        109.0        9.0          25.0   549.0    44.0       Juanna Vines   \n",
       "2         43.0     3576.0           0.0  6715.0    49.0      Altark Susent   \n",
       "3          0.0     1283.0         371.0  3329.0   193.0       Solam Susent   \n",
       "4        303.0       70.0         151.0   565.0     2.0  Willy Santantines   \n",
       "\n",
       "   Transported  \n",
       "0        False  \n",
       "1         True  \n",
       "2        False  \n",
       "3        False  \n",
       "4         True  "
      ]
     },
     "execution_count": 9,
     "metadata": {},
     "output_type": "execute_result"
    }
   ],
   "source": [
    "df=pd.read_csv(r\"G:\\coursera\\projects\\Spaceship Titanic\\train.csv\")\n",
    "df.head()"
   ]
  },
  {
   "cell_type": "code",
   "execution_count": 10,
   "id": "2b1acdc0",
   "metadata": {
    "execution": {
     "iopub.execute_input": "2023-10-05T11:36:58.874789Z",
     "iopub.status.busy": "2023-10-05T11:36:58.874207Z",
     "iopub.status.idle": "2023-10-05T11:36:58.901986Z",
     "shell.execute_reply": "2023-10-05T11:36:58.900647Z"
    },
    "papermill": {
     "duration": 0.043047,
     "end_time": "2023-10-05T11:36:58.904033",
     "exception": false,
     "start_time": "2023-10-05T11:36:58.860986",
     "status": "completed"
    },
    "tags": []
   },
   "outputs": [
    {
     "name": "stdout",
     "output_type": "stream",
     "text": [
      "<class 'pandas.core.frame.DataFrame'>\n",
      "RangeIndex: 8693 entries, 0 to 8692\n",
      "Data columns (total 14 columns):\n",
      " #   Column        Non-Null Count  Dtype  \n",
      "---  ------        --------------  -----  \n",
      " 0   PassengerId   8693 non-null   object \n",
      " 1   HomePlanet    8492 non-null   object \n",
      " 2   CryoSleep     8476 non-null   object \n",
      " 3   Cabin         8494 non-null   object \n",
      " 4   Destination   8511 non-null   object \n",
      " 5   Age           8514 non-null   float64\n",
      " 6   VIP           8490 non-null   object \n",
      " 7   RoomService   8512 non-null   float64\n",
      " 8   FoodCourt     8510 non-null   float64\n",
      " 9   ShoppingMall  8485 non-null   float64\n",
      " 10  Spa           8510 non-null   float64\n",
      " 11  VRDeck        8505 non-null   float64\n",
      " 12  Name          8493 non-null   object \n",
      " 13  Transported   8693 non-null   bool   \n",
      "dtypes: bool(1), float64(6), object(7)\n",
      "memory usage: 891.5+ KB\n"
     ]
    }
   ],
   "source": [
    "df.info()"
   ]
  },
  {
   "cell_type": "code",
   "execution_count": 11,
   "id": "bc1ec36f",
   "metadata": {
    "execution": {
     "iopub.execute_input": "2023-10-05T11:36:58.931088Z",
     "iopub.status.busy": "2023-10-05T11:36:58.930412Z",
     "iopub.status.idle": "2023-10-05T11:36:58.941964Z",
     "shell.execute_reply": "2023-10-05T11:36:58.940860Z"
    },
    "papermill": {
     "duration": 0.027835,
     "end_time": "2023-10-05T11:36:58.944056",
     "exception": false,
     "start_time": "2023-10-05T11:36:58.916221",
     "status": "completed"
    },
    "tags": []
   },
   "outputs": [
    {
     "name": "stdout",
     "output_type": "stream",
     "text": [
      "0    0001_01\n",
      "1    0002_01\n",
      "2    0003_01\n",
      "3    0003_02\n",
      "4    0004_01\n",
      "Name: PassengerId, dtype: object\n"
     ]
    }
   ],
   "source": [
    "Id=df.PassengerId\n",
    "df=df.drop('PassengerId',axis=1)\n",
    "print(Id.head())"
   ]
  },
  {
   "cell_type": "code",
   "execution_count": 12,
   "id": "f24df82b",
   "metadata": {
    "execution": {
     "iopub.execute_input": "2023-10-05T11:36:58.969925Z",
     "iopub.status.busy": "2023-10-05T11:36:58.969559Z",
     "iopub.status.idle": "2023-10-05T11:36:58.975814Z",
     "shell.execute_reply": "2023-10-05T11:36:58.974832Z"
    },
    "papermill": {
     "duration": 0.021516,
     "end_time": "2023-10-05T11:36:58.977798",
     "exception": false,
     "start_time": "2023-10-05T11:36:58.956282",
     "status": "completed"
    },
    "tags": []
   },
   "outputs": [
    {
     "data": {
      "text/plain": [
       "(8693, 13)"
      ]
     },
     "execution_count": 12,
     "metadata": {},
     "output_type": "execute_result"
    }
   ],
   "source": [
    "df.shape"
   ]
  },
  {
   "cell_type": "markdown",
   "id": "dfad46f5",
   "metadata": {
    "papermill": {
     "duration": 0.01217,
     "end_time": "2023-10-05T11:36:59.002644",
     "exception": false,
     "start_time": "2023-10-05T11:36:58.990474",
     "status": "completed"
    },
    "tags": []
   },
   "source": [
    "# cleaning the data set"
   ]
  },
  {
   "cell_type": "code",
   "execution_count": 1,
   "id": "c8f74cbb",
   "metadata": {
    "execution": {
     "iopub.execute_input": "2023-10-05T11:36:59.029798Z",
     "iopub.status.busy": "2023-10-05T11:36:59.029162Z",
     "iopub.status.idle": "2023-10-05T11:36:59.048363Z",
     "shell.execute_reply": "2023-10-05T11:36:59.047256Z"
    },
    "papermill": {
     "duration": 0.035459,
     "end_time": "2023-10-05T11:36:59.050740",
     "exception": false,
     "start_time": "2023-10-05T11:36:59.015281",
     "status": "completed"
    },
    "tags": []
   },
   "outputs": [
    {
     "ename": "NameError",
     "evalue": "name 'df' is not defined",
     "output_type": "error",
     "traceback": [
      "\u001b[1;31m---------------------------------------------------------------------------\u001b[0m",
      "\u001b[1;31mNameError\u001b[0m                                 Traceback (most recent call last)",
      "Cell \u001b[1;32mIn[1], line 2\u001b[0m\n\u001b[0;32m      1\u001b[0m \u001b[38;5;66;03m# Split the 'name' column on the space character (`/`)\u001b[39;00m\n\u001b[1;32m----> 2\u001b[0m df[[\u001b[38;5;124m'\u001b[39m\u001b[38;5;124mdeck\u001b[39m\u001b[38;5;124m'\u001b[39m, \u001b[38;5;124m'\u001b[39m\u001b[38;5;124mnum\u001b[39m\u001b[38;5;124m'\u001b[39m,\u001b[38;5;124m'\u001b[39m\u001b[38;5;124mside\u001b[39m\u001b[38;5;124m'\u001b[39m]] \u001b[38;5;241m=\u001b[39m df[\u001b[38;5;124m'\u001b[39m\u001b[38;5;124mCabin\u001b[39m\u001b[38;5;124m'\u001b[39m]\u001b[38;5;241m.\u001b[39mstr\u001b[38;5;241m.\u001b[39msplit(\u001b[38;5;124mr\u001b[39m\u001b[38;5;124m'\u001b[39m\u001b[38;5;124m(\u001b[39m\u001b[38;5;124m\\\u001b[39m\u001b[38;5;124mS+)\u001b[39m\u001b[38;5;124m\\\u001b[39m\u001b[38;5;124ms*(\u001b[39m\u001b[38;5;124m\\\u001b[39m\u001b[38;5;124mS*)\u001b[39m\u001b[38;5;124m\\\u001b[39m\u001b[38;5;124ms*(\u001b[39m\u001b[38;5;124m\\\u001b[39m\u001b[38;5;124mS+)\u001b[39m\u001b[38;5;124m'\u001b[39m)\n\u001b[0;32m      3\u001b[0m df\u001b[38;5;241m=\u001b[39mdf\u001b[38;5;241m.\u001b[39mdrop(\u001b[38;5;124m\"\u001b[39m\u001b[38;5;124mCabin\u001b[39m\u001b[38;5;124m\"\u001b[39m,axis\u001b[38;5;241m=\u001b[39m\u001b[38;5;241m1\u001b[39m)\n",
      "\u001b[1;31mNameError\u001b[0m: name 'df' is not defined"
     ]
    }
   ],
   "source": [
    "# Split the 'name' column on the space character (`/`)\n",
    "df[['deck', 'num','side']] = df['Cabin'].str.split('/',expand=True)\n",
    "df=df.drop(\"Cabin\",axis=1)"
   ]
  },
  {
   "cell_type": "code",
   "execution_count": 14,
   "id": "b7a64d12",
   "metadata": {
    "execution": {
     "iopub.execute_input": "2023-10-05T11:36:59.076966Z",
     "iopub.status.busy": "2023-10-05T11:36:59.076562Z",
     "iopub.status.idle": "2023-10-05T11:36:59.093627Z",
     "shell.execute_reply": "2023-10-05T11:36:59.092003Z"
    },
    "papermill": {
     "duration": 0.03288,
     "end_time": "2023-10-05T11:36:59.095880",
     "exception": false,
     "start_time": "2023-10-05T11:36:59.063000",
     "status": "completed"
    },
    "tags": []
   },
   "outputs": [
    {
     "name": "stdout",
     "output_type": "stream",
     "text": [
      "<class 'pandas.core.frame.DataFrame'>\n",
      "RangeIndex: 8693 entries, 0 to 8692\n",
      "Data columns (total 15 columns):\n",
      " #   Column        Non-Null Count  Dtype  \n",
      "---  ------        --------------  -----  \n",
      " 0   HomePlanet    8492 non-null   object \n",
      " 1   CryoSleep     8476 non-null   object \n",
      " 2   Destination   8511 non-null   object \n",
      " 3   Age           8514 non-null   float64\n",
      " 4   VIP           8490 non-null   object \n",
      " 5   RoomService   8512 non-null   float64\n",
      " 6   FoodCourt     8510 non-null   float64\n",
      " 7   ShoppingMall  8485 non-null   float64\n",
      " 8   Spa           8510 non-null   float64\n",
      " 9   VRDeck        8505 non-null   float64\n",
      " 10  Name          8493 non-null   object \n",
      " 11  Transported   8693 non-null   bool   \n",
      " 12  deck          8494 non-null   object \n",
      " 13  num           8494 non-null   object \n",
      " 14  side          8494 non-null   object \n",
      "dtypes: bool(1), float64(6), object(8)\n",
      "memory usage: 959.4+ KB\n"
     ]
    }
   ],
   "source": [
    "df.info()"
   ]
  },
  {
   "cell_type": "code",
   "execution_count": 15,
   "id": "719e49a8",
   "metadata": {
    "execution": {
     "iopub.execute_input": "2023-10-05T11:36:59.122847Z",
     "iopub.status.busy": "2023-10-05T11:36:59.122492Z",
     "iopub.status.idle": "2023-10-05T11:36:59.127043Z",
     "shell.execute_reply": "2023-10-05T11:36:59.126127Z"
    },
    "papermill": {
     "duration": 0.020369,
     "end_time": "2023-10-05T11:36:59.128898",
     "exception": false,
     "start_time": "2023-10-05T11:36:59.108529",
     "status": "completed"
    },
    "tags": []
   },
   "outputs": [],
   "source": [
    "#Remove whitespace from column names\n",
    "df.columns = df.columns.str.strip()"
   ]
  },
  {
   "cell_type": "code",
   "execution_count": 16,
   "id": "90060045",
   "metadata": {
    "execution": {
     "iopub.execute_input": "2023-10-05T11:36:59.155226Z",
     "iopub.status.busy": "2023-10-05T11:36:59.154376Z",
     "iopub.status.idle": "2023-10-05T11:36:59.161380Z",
     "shell.execute_reply": "2023-10-05T11:36:59.160343Z"
    },
    "papermill": {
     "duration": 0.022392,
     "end_time": "2023-10-05T11:36:59.163468",
     "exception": false,
     "start_time": "2023-10-05T11:36:59.141076",
     "status": "completed"
    },
    "tags": []
   },
   "outputs": [],
   "source": [
    "df[\"num\"]=df['num'].astype(float)"
   ]
  },
  {
   "cell_type": "code",
   "execution_count": 17,
   "id": "71b793c2",
   "metadata": {
    "execution": {
     "iopub.execute_input": "2023-10-05T11:36:59.250660Z",
     "iopub.status.busy": "2023-10-05T11:36:59.250290Z",
     "iopub.status.idle": "2023-10-05T11:36:59.262244Z",
     "shell.execute_reply": "2023-10-05T11:36:59.260820Z"
    },
    "papermill": {
     "duration": 0.029263,
     "end_time": "2023-10-05T11:36:59.264661",
     "exception": false,
     "start_time": "2023-10-05T11:36:59.235398",
     "status": "completed"
    },
    "tags": []
   },
   "outputs": [
    {
     "name": "stdout",
     "output_type": "stream",
     "text": [
      "HomePlanet      201\n",
      "CryoSleep       217\n",
      "Destination     182\n",
      "Age             179\n",
      "VIP             203\n",
      "RoomService     181\n",
      "FoodCourt       183\n",
      "ShoppingMall    208\n",
      "Spa             183\n",
      "VRDeck          188\n",
      "Name            200\n",
      "deck            199\n",
      "num             199\n",
      "side            199\n",
      "dtype: int64\n"
     ]
    }
   ],
   "source": [
    "null= df.isna().sum() \n",
    "print(null[null != 0])"
   ]
  },
  {
   "cell_type": "code",
   "execution_count": 18,
   "id": "11169e63",
   "metadata": {
    "execution": {
     "iopub.execute_input": "2023-10-05T11:36:59.292395Z",
     "iopub.status.busy": "2023-10-05T11:36:59.291676Z",
     "iopub.status.idle": "2023-10-05T11:36:59.333944Z",
     "shell.execute_reply": "2023-10-05T11:36:59.332811Z"
    },
    "papermill": {
     "duration": 0.058912,
     "end_time": "2023-10-05T11:36:59.336567",
     "exception": false,
     "start_time": "2023-10-05T11:36:59.277655",
     "status": "completed"
    },
    "tags": []
   },
   "outputs": [
    {
     "name": "stdout",
     "output_type": "stream",
     "text": [
      "<class 'pandas.core.frame.DataFrame'>\n",
      "RangeIndex: 8693 entries, 0 to 8692\n",
      "Data columns (total 15 columns):\n",
      " #   Column        Non-Null Count  Dtype   \n",
      "---  ------        --------------  -----   \n",
      " 0   Age           8514 non-null   float64 \n",
      " 1   RoomService   8512 non-null   float64 \n",
      " 2   FoodCourt     8510 non-null   float64 \n",
      " 3   ShoppingMall  8485 non-null   float64 \n",
      " 4   Spa           8510 non-null   float64 \n",
      " 5   VRDeck        8505 non-null   float64 \n",
      " 6   Transported   8693 non-null   bool    \n",
      " 7   num           8494 non-null   float64 \n",
      " 8   HomePlanet    8492 non-null   category\n",
      " 9   CryoSleep     8476 non-null   category\n",
      " 10  Destination   8511 non-null   category\n",
      " 11  VIP           8490 non-null   category\n",
      " 12  Name          8493 non-null   category\n",
      " 13  deck          8494 non-null   category\n",
      " 14  side          8494 non-null   category\n",
      "dtypes: bool(1), category(7), float64(7)\n",
      "memory usage: 877.1 KB\n"
     ]
    }
   ],
   "source": [
    "#convert object into category\n",
    "df = pd.concat([\n",
    "        df.select_dtypes([], ['object']),\n",
    "        df.select_dtypes(['object']).apply(pd.Series.astype, dtype='category')\n",
    "        ], axis=1)\n",
    "\n",
    "df.info()"
   ]
  },
  {
   "cell_type": "code",
   "execution_count": 19,
   "id": "96fc4173",
   "metadata": {
    "execution": {
     "iopub.execute_input": "2023-10-05T11:36:59.364060Z",
     "iopub.status.busy": "2023-10-05T11:36:59.363631Z",
     "iopub.status.idle": "2023-10-05T11:36:59.370133Z",
     "shell.execute_reply": "2023-10-05T11:36:59.369307Z"
    },
    "papermill": {
     "duration": 0.022669,
     "end_time": "2023-10-05T11:36:59.372504",
     "exception": false,
     "start_time": "2023-10-05T11:36:59.349835",
     "status": "completed"
    },
    "tags": []
   },
   "outputs": [],
   "source": [
    "#remove the Name column as it is not necessary for model training.\n",
    "df=df.drop(\"Name\",axis=1)"
   ]
  },
  {
   "cell_type": "code",
   "execution_count": 65,
   "id": "bd94a41f",
   "metadata": {
    "execution": {
     "iopub.execute_input": "2023-10-05T11:36:59.400805Z",
     "iopub.status.busy": "2023-10-05T11:36:59.400120Z",
     "iopub.status.idle": "2023-10-05T11:36:59.447998Z",
     "shell.execute_reply": "2023-10-05T11:36:59.446868Z"
    },
    "papermill": {
     "duration": 0.064565,
     "end_time": "2023-10-05T11:36:59.450544",
     "exception": false,
     "start_time": "2023-10-05T11:36:59.385979",
     "status": "completed"
    },
    "tags": []
   },
   "outputs": [
    {
     "name": "stderr",
     "output_type": "stream",
     "text": [
      "C:\\ProgramData\\anaconda3\\Lib\\site-packages\\miceforest\\ImputationKernel.py:371: UserWarning: [deck] have very rare categories, it is a good idea to group these, or set the min_data_in_leaf parameter to prevent lightgbm from outputting 0.0 probabilities.\n",
      "  warn(\n"
     ]
    }
   ],
   "source": [
    "#This is a multivariate imputation technique, \n",
    "#meaning that the missing information is filled by taking into consideration the information from the other columns. \n",
    "mice_kernel = ImputationKernel(\n",
    "data = df,\n",
    "save_all_iterations = True,\n",
    "random_state = 64,\n",
    ")\n"
   ]
  },
  {
   "cell_type": "code",
   "execution_count": 21,
   "id": "68382702",
   "metadata": {
    "execution": {
     "iopub.execute_input": "2023-10-05T11:36:59.480010Z",
     "iopub.status.busy": "2023-10-05T11:36:59.479390Z",
     "iopub.status.idle": "2023-10-05T11:37:37.031435Z",
     "shell.execute_reply": "2023-10-05T11:37:37.030494Z"
    },
    "papermill": {
     "duration": 37.569725,
     "end_time": "2023-10-05T11:37:37.033826",
     "exception": false,
     "start_time": "2023-10-05T11:36:59.464101",
     "status": "completed"
    },
    "tags": []
   },
   "outputs": [],
   "source": [
    "#we run the kernel on the data for two iterations, and finally, create the imputed data.\n",
    "mice_kernel.mice(2)\n",
    "df = mice_kernel.complete_data()\n",
    "null= df.isna().sum() \n"
   ]
  },
  {
   "cell_type": "code",
   "execution_count": null,
   "id": "ce4b5016",
   "metadata": {},
   "outputs": [],
   "source": [
    "df[\"deck\"].null"
   ]
  },
  {
   "cell_type": "code",
   "execution_count": 23,
   "id": "f48f8495",
   "metadata": {
    "execution": {
     "iopub.execute_input": "2023-10-05T11:37:37.097054Z",
     "iopub.status.busy": "2023-10-05T11:37:37.096687Z",
     "iopub.status.idle": "2023-10-05T11:37:37.102153Z",
     "shell.execute_reply": "2023-10-05T11:37:37.100900Z"
    },
    "papermill": {
     "duration": 0.021533,
     "end_time": "2023-10-05T11:37:37.104076",
     "exception": false,
     "start_time": "2023-10-05T11:37:37.082543",
     "status": "completed"
    },
    "tags": []
   },
   "outputs": [],
   "source": [
    "df[\"num\"]=df['num'].astype(int)"
   ]
  },
  {
   "cell_type": "code",
   "execution_count": 24,
   "id": "26ff3223",
   "metadata": {
    "execution": {
     "iopub.execute_input": "2023-10-05T11:37:37.132106Z",
     "iopub.status.busy": "2023-10-05T11:37:37.131280Z",
     "iopub.status.idle": "2023-10-05T11:37:37.138997Z",
     "shell.execute_reply": "2023-10-05T11:37:37.138200Z"
    },
    "papermill": {
     "duration": 0.023866,
     "end_time": "2023-10-05T11:37:37.140777",
     "exception": false,
     "start_time": "2023-10-05T11:37:37.116911",
     "status": "completed"
    },
    "tags": []
   },
   "outputs": [
    {
     "data": {
      "text/plain": [
       "Transported\n",
       "True     4378\n",
       "False    4315\n",
       "Name: count, dtype: int64"
      ]
     },
     "execution_count": 24,
     "metadata": {},
     "output_type": "execute_result"
    }
   ],
   "source": [
    "count_values = df.Transported.value_counts()\n",
    "count_values\n"
   ]
  },
  {
   "cell_type": "markdown",
   "id": "569a4380",
   "metadata": {
    "papermill": {
     "duration": 0.012458,
     "end_time": "2023-10-05T11:37:37.165935",
     "exception": false,
     "start_time": "2023-10-05T11:37:37.153477",
     "status": "completed"
    },
    "tags": []
   },
   "source": [
    "# Numerical data distribution"
   ]
  },
  {
   "cell_type": "code",
   "execution_count": 25,
   "id": "06374338",
   "metadata": {
    "execution": {
     "iopub.execute_input": "2023-10-05T11:37:37.193327Z",
     "iopub.status.busy": "2023-10-05T11:37:37.192717Z",
     "iopub.status.idle": "2023-10-05T11:37:39.491377Z",
     "shell.execute_reply": "2023-10-05T11:37:39.490307Z"
    },
    "papermill": {
     "duration": 2.31477,
     "end_time": "2023-10-05T11:37:39.493493",
     "exception": false,
     "start_time": "2023-10-05T11:37:37.178723",
     "status": "completed"
    },
    "tags": []
   },
   "outputs": [
    {
     "data": {
      "image/png": "[encoded data removed]",
      "text/plain": [
       "<Figure size 2000x2000 with 9 Axes>"
      ]
     },
     "metadata": {},
     "output_type": "display_data"
    }
   ],
   "source": [
    "#  plot the distribution for all the numerical features.\n",
    "df[[\"Age\",\"RoomService\",\"FoodCourt\",\"ShoppingMall\",\"Spa\",\"VRDeck\",\"num\"]].hist(bins=60,figsize=(20,20));"
   ]
  },
  {
   "cell_type": "code",
   "execution_count": 26,
   "id": "9ac89a1c",
   "metadata": {
    "execution": {
     "iopub.execute_input": "2023-10-05T11:37:39.524057Z",
     "iopub.status.busy": "2023-10-05T11:37:39.523662Z",
     "iopub.status.idle": "2023-10-05T11:37:39.535811Z",
     "shell.execute_reply": "2023-10-05T11:37:39.534577Z"
    },
    "papermill": {
     "duration": 0.029969,
     "end_time": "2023-10-05T11:37:39.537859",
     "exception": false,
     "start_time": "2023-10-05T11:37:39.507890",
     "status": "completed"
    },
    "tags": []
   },
   "outputs": [
    {
     "name": "stdout",
     "output_type": "stream",
     "text": [
      "Value counts for column'{column}':\n",
      "HomePlanet\n",
      "Earth     4718\n",
      "Europa    2173\n",
      "Mars      1802\n",
      "Name: count, dtype: int64\n",
      "\n",
      "Value counts for column'{column}':\n",
      "CryoSleep\n",
      "False    5577\n",
      "True     3116\n",
      "Name: count, dtype: int64\n",
      "\n",
      "Value counts for column'{column}':\n",
      "Destination\n",
      "TRAPPIST-1e      6053\n",
      "55 Cancri e      1833\n",
      "PSO J318.5-22     807\n",
      "Name: count, dtype: int64\n",
      "\n",
      "Value counts for column'{column}':\n",
      "VIP\n",
      "False    8493\n",
      "True      200\n",
      "Name: count, dtype: int64\n",
      "\n",
      "Value counts for column'{column}':\n",
      "deck\n",
      "F    2855\n",
      "G    2617\n",
      "E     897\n",
      "B     805\n",
      "C     767\n",
      "D     485\n",
      "A     262\n",
      "T       5\n",
      "Name: count, dtype: int64\n",
      "\n",
      "Value counts for column'{column}':\n",
      "side\n",
      "S    4392\n",
      "P    4301\n",
      "Name: count, dtype: int64\n",
      "\n"
     ]
    }
   ],
   "source": [
    "# checking string-enccoded categorical data\n",
    "#Selecting only the category columns\n",
    "category_columns=df.select_dtypes(include='category')\n",
    "#display the value counts for each category column\n",
    "for column in category_columns:\n",
    "    print(\"Value counts for column'{column}':\")\n",
    "    print(df[column].value_counts())\n",
    "    print()"
   ]
  },
  {
   "cell_type": "markdown",
   "id": "cfc17bd7",
   "metadata": {
    "papermill": {
     "duration": 0.014129,
     "end_time": "2023-10-05T11:37:39.566245",
     "exception": false,
     "start_time": "2023-10-05T11:37:39.552116",
     "status": "completed"
    },
    "tags": []
   },
   "source": [
    "#  Building a Model With Evaluation and Improvment"
   ]
  },
  {
   "cell_type": "code",
   "execution_count": 27,
   "id": "4614ae17",
   "metadata": {
    "execution": {
     "iopub.execute_input": "2023-10-05T11:37:39.598024Z",
     "iopub.status.busy": "2023-10-05T11:37:39.597617Z",
     "iopub.status.idle": "2023-10-05T11:37:39.607106Z",
     "shell.execute_reply": "2023-10-05T11:37:39.606046Z"
    },
    "papermill": {
     "duration": 0.027707,
     "end_time": "2023-10-05T11:37:39.609124",
     "exception": false,
     "start_time": "2023-10-05T11:37:39.581417",
     "status": "completed"
    },
    "tags": []
   },
   "outputs": [
    {
     "name": "stdout",
     "output_type": "stream",
     "text": [
      "the shape of the inputs x is: (8693, 13)\n",
      "the shape of the targets y is: (8693,)\n"
     ]
    }
   ],
   "source": [
    "# split into x, y\n",
    "y_set=df.Transported\n",
    "x_set=df.drop(['Transported'],axis=1)\n",
    "\n",
    "print(f\"the shape of the inputs x is: {x_set.shape}\")\n",
    "print(f\"the shape of the targets y is: {y_set.shape}\")"
   ]
  },
  {
   "cell_type": "code",
   "execution_count": 28,
   "id": "f7764e7c",
   "metadata": {
    "execution": {
     "iopub.execute_input": "2023-10-05T11:37:39.641001Z",
     "iopub.status.busy": "2023-10-05T11:37:39.639956Z",
     "iopub.status.idle": "2023-10-05T11:37:39.652838Z",
     "shell.execute_reply": "2023-10-05T11:37:39.651846Z"
    },
    "papermill": {
     "duration": 0.030686,
     "end_time": "2023-10-05T11:37:39.654843",
     "exception": false,
     "start_time": "2023-10-05T11:37:39.624157",
     "status": "completed"
    },
    "tags": []
   },
   "outputs": [
    {
     "data": {
      "text/plain": [
       "(8693, 27)"
      ]
     },
     "execution_count": 28,
     "metadata": {},
     "output_type": "execute_result"
    }
   ],
   "source": [
    "data_dummies=pd.get_dummies(x_set)\n",
    "data_dummies.shape"
   ]
  },
  {
   "cell_type": "code",
   "execution_count": 29,
   "id": "8d88e49a",
   "metadata": {
    "execution": {
     "iopub.execute_input": "2023-10-05T11:37:39.685906Z",
     "iopub.status.busy": "2023-10-05T11:37:39.685510Z",
     "iopub.status.idle": "2023-10-05T11:37:39.696594Z",
     "shell.execute_reply": "2023-10-05T11:37:39.695638Z"
    },
    "papermill": {
     "duration": 0.028977,
     "end_time": "2023-10-05T11:37:39.698775",
     "exception": false,
     "start_time": "2023-10-05T11:37:39.669798",
     "status": "completed"
    },
    "tags": []
   },
   "outputs": [
    {
     "name": "stdout",
     "output_type": "stream",
     "text": [
      "the shape of the training set (input) is: (6085, 27)\n",
      "the shape of the training set (target) is: (6085,)\n",
      "\n",
      "the shape of the validation set (input) is: (2608, 27)\n",
      "the shape of the validation set (target) is: (2608,)\n",
      "\n"
     ]
    }
   ],
   "source": [
    "x_train, x_test, y_train, y_test = train_test_split(data_dummies, y_set,test_size=0.30, random_state=30)\n",
    "print(f\"the shape of the training set (input) is: {x_train.shape}\")\n",
    "print(f\"the shape of the training set (target) is: {y_train.shape}\\n\")\n",
    "print(f\"the shape of the test set (input) is: {x_test.shape}\")\n",
    "print(f\"the shape of the test set (target) is: {y_test.shape}\\n\")"
   ]
  },
  {
   "cell_type": "markdown",
   "id": "ef0058e7",
   "metadata": {
    "papermill": {
     "duration": 0.014115,
     "end_time": "2023-10-05T11:37:39.727483",
     "exception": false,
     "start_time": "2023-10-05T11:37:39.713368",
     "status": "completed"
    },
    "tags": []
   },
   "source": [
    "The key of the dicitionary are the names of parameters we want to adjust and the values are the parameter settings we want to try out."
   ]
  },
  {
   "cell_type": "code",
   "execution_count": 30,
   "id": "8e622d0b",
   "metadata": {
    "execution": {
     "iopub.execute_input": "2023-10-05T11:37:39.758083Z",
     "iopub.status.busy": "2023-10-05T11:37:39.757708Z",
     "iopub.status.idle": "2023-10-05T11:37:44.745536Z",
     "shell.execute_reply": "2023-10-05T11:37:44.744809Z"
    },
    "papermill": {
     "duration": 5.005628,
     "end_time": "2023-10-05T11:37:44.747487",
     "exception": false,
     "start_time": "2023-10-05T11:37:39.741859",
     "status": "completed"
    },
    "tags": []
   },
   "outputs": [
    {
     "data": {
      "text/plain": [
       "0.813464696223317"
      ]
     },
     "execution_count": 30,
     "metadata": {},
     "output_type": "execute_result"
    }
   ],
   "source": [
    "from sklearn.ensemble import GradientBoostingClassifier\n",
    "from sklearn.model_selection import StratifiedShuffleSplit\n",
    "from sklearn.model_selection import cross_val_score\n",
    "shuffle_split=StratifiedShuffleSplit(test_size=0.1,train_size=0.9,n_splits=5,random_state=20)\n",
    "gbrt=GradientBoostingClassifier()\n",
    "scores=cross_val_score(gbrt,x_train,y_train,cv=shuffle_split)\n",
    "scores.mean()"
   ]
  },
  {
   "cell_type": "code",
   "execution_count": 31,
   "id": "75293985",
   "metadata": {
    "execution": {
     "iopub.execute_input": "2023-10-05T11:37:44.778992Z",
     "iopub.status.busy": "2023-10-05T11:37:44.778613Z",
     "iopub.status.idle": "2023-10-05T11:37:44.783317Z",
     "shell.execute_reply": "2023-10-05T11:37:44.782577Z"
    },
    "papermill": {
     "duration": 0.022501,
     "end_time": "2023-10-05T11:37:44.785333",
     "exception": false,
     "start_time": "2023-10-05T11:37:44.762832",
     "status": "completed"
    },
    "tags": []
   },
   "outputs": [
    {
     "name": "stdout",
     "output_type": "stream",
     "text": [
      "parameter grid:\n",
      "{'learning_rate': [0.1, 0.3, 0.4, 0.5, 0.6], 'n_estimators': [5, 10, 30, 40, 50]}\n"
     ]
    }
   ],
   "source": [
    "param_grid={ 'learning_rate':[0.1,0.3,0.4,0.5,0.6],\n",
    "           'n_estimators':[5,10,30,40,50]}\n",
    "print(\"parameter grid:\\n{}\".format(param_grid))"
   ]
  },
  {
   "cell_type": "markdown",
   "id": "1c882f29",
   "metadata": {
    "papermill": {
     "duration": 0.01432,
     "end_time": "2023-10-05T11:37:44.814126",
     "exception": false,
     "start_time": "2023-10-05T11:37:44.799806",
     "status": "completed"
    },
    "tags": []
   },
   "source": [
    "We can now instantiate the GridSearchCV class with the model (GradientBoostingClassifier), the parameter grid to search (param_grid), and the cross-validation strategy we want to use (say, ten-fold stratified cross-validation):"
   ]
  },
  {
   "cell_type": "code",
   "execution_count": 32,
   "id": "d15d6845",
   "metadata": {
    "execution": {
     "iopub.execute_input": "2023-10-05T11:37:44.844969Z",
     "iopub.status.busy": "2023-10-05T11:37:44.844323Z",
     "iopub.status.idle": "2023-10-05T11:37:44.848409Z",
     "shell.execute_reply": "2023-10-05T11:37:44.847716Z"
    },
    "papermill": {
     "duration": 0.021664,
     "end_time": "2023-10-05T11:37:44.850230",
     "exception": false,
     "start_time": "2023-10-05T11:37:44.828566",
     "status": "completed"
    },
    "tags": []
   },
   "outputs": [],
   "source": [
    "from sklearn.model_selection import GridSearchCV\n",
    "from sklearn.ensemble import GradientBoostingClassifier\n",
    "grid_search=GridSearchCV(GradientBoostingClassifier(),param_grid,cv=shuffle_split)"
   ]
  },
  {
   "cell_type": "markdown",
   "id": "0e36a813",
   "metadata": {
    "papermill": {
     "duration": 0.014793,
     "end_time": "2023-10-05T11:37:44.879986",
     "exception": false,
     "start_time": "2023-10-05T11:37:44.865193",
     "status": "completed"
    },
    "tags": []
   },
   "source": [
    "when we call fit, it will run cross-validation for each combination of parameters "
   ]
  },
  {
   "cell_type": "code",
   "execution_count": 33,
   "id": "f0a07d40",
   "metadata": {
    "execution": {
     "iopub.execute_input": "2023-10-05T11:37:44.911182Z",
     "iopub.status.busy": "2023-10-05T11:37:44.910520Z",
     "iopub.status.idle": "2023-10-05T11:38:18.885866Z",
     "shell.execute_reply": "2023-10-05T11:38:18.885025Z"
    },
    "papermill": {
     "duration": 34.007725,
     "end_time": "2023-10-05T11:38:18.902309",
     "exception": false,
     "start_time": "2023-10-05T11:37:44.894584",
     "status": "completed"
    },
    "tags": []
   },
   "outputs": [
    {
     "data": {
      "text/html": [
       "<style>#sk-container-id-1 {color: black;}#sk-container-id-1 pre{padding: 0;}#sk-container-id-1 div.sk-toggleable {background-color: white;}#sk-container-id-1 label.sk-toggleable__label {cursor: pointer;display: block;width: 100%;margin-bottom: 0;padding: 0.3em;box-sizing: border-box;text-align: center;}#sk-container-id-1 label.sk-toggleable__label-arrow:before {content: \"▸\";float: left;margin-right: 0.25em;color: #696969;}#sk-container-id-1 label.sk-toggleable__label-arrow:hover:before {color: black;}#sk-container-id-1 div.sk-estimator:hover label.sk-toggleable__label-arrow:before {color: black;}#sk-container-id-1 div.sk-toggleable__content {max-height: 0;max-width: 0;overflow: hidden;text-align: left;background-color: #f0f8ff;}#sk-container-id-1 div.sk-toggleable__content pre {margin: 0.2em;color: black;border-radius: 0.25em;background-color: #f0f8ff;}#sk-container-id-1 input.sk-toggleable__control:checked~div.sk-toggleable__content {max-height: 200px;max-width: 100%;overflow: auto;}#sk-container-id-1 input.sk-toggleable__control:checked~label.sk-toggleable__label-arrow:before {content: \"▾\";}#sk-container-id-1 div.sk-estimator input.sk-toggleable__control:checked~label.sk-toggleable__label {background-color: #d4ebff;}#sk-container-id-1 div.sk-label input.sk-toggleable__control:checked~label.sk-toggleable__label {background-color: #d4ebff;}#sk-container-id-1 input.sk-hidden--visually {border: 0;clip: rect(1px 1px 1px 1px);clip: rect(1px, 1px, 1px, 1px);height: 1px;margin: -1px;overflow: hidden;padding: 0;position: absolute;width: 1px;}#sk-container-id-1 div.sk-estimator {font-family: monospace;background-color: #f0f8ff;border: 1px dotted black;border-radius: 0.25em;box-sizing: border-box;margin-bottom: 0.5em;}#sk-container-id-1 div.sk-estimator:hover {background-color: #d4ebff;}#sk-container-id-1 div.sk-parallel-item::after {content: \"\";width: 100%;border-bottom: 1px solid gray;flex-grow: 1;}#sk-container-id-1 div.sk-label:hover label.sk-toggleable__label {background-color: #d4ebff;}#sk-container-id-1 div.sk-serial::before {content: \"\";position: absolute;border-left: 1px solid gray;box-sizing: border-box;top: 0;bottom: 0;left: 50%;z-index: 0;}#sk-container-id-1 div.sk-serial {display: flex;flex-direction: column;align-items: center;background-color: white;padding-right: 0.2em;padding-left: 0.2em;position: relative;}#sk-container-id-1 div.sk-item {position: relative;z-index: 1;}#sk-container-id-1 div.sk-parallel {display: flex;align-items: stretch;justify-content: center;background-color: white;position: relative;}#sk-container-id-1 div.sk-item::before, #sk-container-id-1 div.sk-parallel-item::before {content: \"\";position: absolute;border-left: 1px solid gray;box-sizing: border-box;top: 0;bottom: 0;left: 50%;z-index: -1;}#sk-container-id-1 div.sk-parallel-item {display: flex;flex-direction: column;z-index: 1;position: relative;background-color: white;}#sk-container-id-1 div.sk-parallel-item:first-child::after {align-self: flex-end;width: 50%;}#sk-container-id-1 div.sk-parallel-item:last-child::after {align-self: flex-start;width: 50%;}#sk-container-id-1 div.sk-parallel-item:only-child::after {width: 0;}#sk-container-id-1 div.sk-dashed-wrapped {border: 1px dashed gray;margin: 0 0.4em 0.5em 0.4em;box-sizing: border-box;padding-bottom: 0.4em;background-color: white;}#sk-container-id-1 div.sk-label label {font-family: monospace;font-weight: bold;display: inline-block;line-height: 1.2em;}#sk-container-id-1 div.sk-label-container {text-align: center;}#sk-container-id-1 div.sk-container {/* jupyter's `normalize.less` sets `[hidden] { display: none; }` but bootstrap.min.css set `[hidden] { display: none !important; }` so we also need the `!important` here to be able to override the default hidden behavior on the sphinx rendered scikit-learn.org. See: https://github.com/scikit-learn/scikit-learn/issues/21755 */display: inline-block !important;position: relative;}#sk-container-id-1 div.sk-text-repr-fallback {display: none;}</style><div id=\"sk-container-id-1\" class=\"sk-top-container\"><div class=\"sk-text-repr-fallback\"><pre>GridSearchCV(cv=StratifiedShuffleSplit(n_splits=5, random_state=20, test_size=0.1,\n",
       "            train_size=0.9),\n",
       "             estimator=GradientBoostingClassifier(),\n",
       "             param_grid={&#x27;learning_rate&#x27;: [0.1, 0.3, 0.4, 0.5, 0.6],\n",
       "                         &#x27;n_estimators&#x27;: [5, 10, 30, 40, 50]})</pre><b>In a Jupyter environment, please rerun this cell to show the HTML representation or trust the notebook. <br />On GitHub, the HTML representation is unable to render, please try loading this page with nbviewer.org.</b></div><div class=\"sk-container\" hidden><div class=\"sk-item sk-dashed-wrapped\"><div class=\"sk-label-container\"><div class=\"sk-label sk-toggleable\"><input class=\"sk-toggleable__control sk-hidden--visually\" id=\"sk-estimator-id-1\" type=\"checkbox\" ><label for=\"sk-estimator-id-1\" class=\"sk-toggleable__label sk-toggleable__label-arrow\">GridSearchCV</label><div class=\"sk-toggleable__content\"><pre>GridSearchCV(cv=StratifiedShuffleSplit(n_splits=5, random_state=20, test_size=0.1,\n",
       "            train_size=0.9),\n",
       "             estimator=GradientBoostingClassifier(),\n",
       "             param_grid={&#x27;learning_rate&#x27;: [0.1, 0.3, 0.4, 0.5, 0.6],\n",
       "                         &#x27;n_estimators&#x27;: [5, 10, 30, 40, 50]})</pre></div></div></div><div class=\"sk-parallel\"><div class=\"sk-parallel-item\"><div class=\"sk-item\"><div class=\"sk-label-container\"><div class=\"sk-label sk-toggleable\"><input class=\"sk-toggleable__control sk-hidden--visually\" id=\"sk-estimator-id-2\" type=\"checkbox\" ><label for=\"sk-estimator-id-2\" class=\"sk-toggleable__label sk-toggleable__label-arrow\">estimator: GradientBoostingClassifier</label><div class=\"sk-toggleable__content\"><pre>GradientBoostingClassifier()</pre></div></div></div><div class=\"sk-serial\"><div class=\"sk-item\"><div class=\"sk-estimator sk-toggleable\"><input class=\"sk-toggleable__control sk-hidden--visually\" id=\"sk-estimator-id-3\" type=\"checkbox\" ><label for=\"sk-estimator-id-3\" class=\"sk-toggleable__label sk-toggleable__label-arrow\">GradientBoostingClassifier</label><div class=\"sk-toggleable__content\"><pre>GradientBoostingClassifier()</pre></div></div></div></div></div></div></div></div></div></div>"
      ],
      "text/plain": [
       "GridSearchCV(cv=StratifiedShuffleSplit(n_splits=5, random_state=20, test_size=0.1,\n",
       "            train_size=0.9),\n",
       "             estimator=GradientBoostingClassifier(),\n",
       "             param_grid={'learning_rate': [0.1, 0.3, 0.4, 0.5, 0.6],\n",
       "                         'n_estimators': [5, 10, 30, 40, 50]})"
      ]
     },
     "execution_count": 33,
     "metadata": {},
     "output_type": "execute_result"
    }
   ],
   "source": [
    "grid_search.fit(x_train,y_train)\n"
   ]
  },
  {
   "cell_type": "code",
   "execution_count": 34,
   "id": "2b5905cf",
   "metadata": {
    "execution": {
     "iopub.execute_input": "2023-10-05T11:38:18.933411Z",
     "iopub.status.busy": "2023-10-05T11:38:18.932882Z",
     "iopub.status.idle": "2023-10-05T11:38:18.943648Z",
     "shell.execute_reply": "2023-10-05T11:38:18.942542Z"
    },
    "papermill": {
     "duration": 0.028949,
     "end_time": "2023-10-05T11:38:18.945783",
     "exception": false,
     "start_time": "2023-10-05T11:38:18.916834",
     "status": "completed"
    },
    "tags": []
   },
   "outputs": [
    {
     "name": "stdout",
     "output_type": "stream",
     "text": [
      "Best parameters:{'learning_rate': 0.3, 'n_estimators': 30}\n",
      "test score:0.825\n",
      "Best cross-validation score:0.812\n"
     ]
    }
   ],
   "source": [
    "print(\"Best parameters:{}\".format(grid_search.best_params_))\n",
    "print(\"test score:{:.3f}\".format(grid_search.score(x_test,y_test)))\n",
    "print(\"Best cross-validation score:{:.3f}\".format(grid_search.best_score_))"
   ]
  },
  {
   "cell_type": "code",
   "execution_count": 35,
   "id": "35984a0a",
   "metadata": {
    "execution": {
     "iopub.execute_input": "2023-10-05T11:38:18.977785Z",
     "iopub.status.busy": "2023-10-05T11:38:18.977399Z",
     "iopub.status.idle": "2023-10-05T11:38:18.983497Z",
     "shell.execute_reply": "2023-10-05T11:38:18.982474Z"
    },
    "papermill": {
     "duration": 0.024778,
     "end_time": "2023-10-05T11:38:18.985511",
     "exception": false,
     "start_time": "2023-10-05T11:38:18.960733",
     "status": "completed"
    },
    "tags": []
   },
   "outputs": [],
   "source": [
    "# convert to DataFrame\n",
    "results=pd.DataFrame(grid_search.cv_results_)\n",
    "# Extract the mean validation scores,then we reshape the scores so that the axes correspond to learning_rate and n_estimators\n",
    "scores=np.array(results.mean_test_score).reshape(5,5)"
   ]
  },
  {
   "cell_type": "markdown",
   "id": "1b08b8de",
   "metadata": {
    "papermill": {
     "duration": 0.014894,
     "end_time": "2023-10-05T11:38:19.015375",
     "exception": false,
     "start_time": "2023-10-05T11:38:19.000481",
     "status": "completed"
    },
    "tags": []
   },
   "source": [
    "The colors encodes the cross-validation accuracy, with light colors meaning high accuracy and dark colors meaning low accuracy"
   ]
  },
  {
   "cell_type": "code",
   "execution_count": 36,
   "id": "4c7c617d",
   "metadata": {
    "execution": {
     "iopub.execute_input": "2023-10-05T11:38:19.046775Z",
     "iopub.status.busy": "2023-10-05T11:38:19.046384Z",
     "iopub.status.idle": "2023-10-05T11:38:19.319095Z",
     "shell.execute_reply": "2023-10-05T11:38:19.318022Z"
    },
    "papermill": {
     "duration": 0.291111,
     "end_time": "2023-10-05T11:38:19.321235",
     "exception": false,
     "start_time": "2023-10-05T11:38:19.030124",
     "status": "completed"
    },
    "tags": []
   },
   "outputs": [
    {
     "data": {
      "text/plain": [
       "<matplotlib.collections.PolyCollection at 0x1fc625e2950>"
      ]
     },
     "execution_count": 36,
     "metadata": {},
     "output_type": "execute_result"
    },
    {
     "data": {
      "image/png": "[encoded data removed]",
      "text/plain": [
       "<Figure size 640x480 with 1 Axes>"
      ]
     },
     "metadata": {},
     "output_type": "display_data"
    }
   ],
   "source": [
    "# plot the mean cross-validation scores\n",
    "mglearn.tools.heatmap(scores,xlabel='learning_rate',xticklabels=param_grid['learning_rate'],ylabel='n_estimators',\n",
    "                      yticklabels=param_grid[\"n_estimators\"],cmap=\"viridis\")"
   ]
  },
  {
   "cell_type": "markdown",
   "id": "cb3bd5d3",
   "metadata": {
    "papermill": {
     "duration": 0.015529,
     "end_time": "2023-10-05T11:38:19.352257",
     "exception": false,
     "start_time": "2023-10-05T11:38:19.336728",
     "status": "completed"
    },
    "tags": []
   },
   "source": [
    "### Evaluation Metrics and Scoring "
   ]
  },
  {
   "cell_type": "code",
   "execution_count": 37,
   "id": "c5202678",
   "metadata": {
    "execution": {
     "iopub.execute_input": "2023-10-05T11:38:19.385373Z",
     "iopub.status.busy": "2023-10-05T11:38:19.384835Z",
     "iopub.status.idle": "2023-10-05T11:38:19.393166Z",
     "shell.execute_reply": "2023-10-05T11:38:19.392280Z"
    },
    "papermill": {
     "duration": 0.027494,
     "end_time": "2023-10-05T11:38:19.395288",
     "exception": false,
     "start_time": "2023-10-05T11:38:19.367794",
     "status": "completed"
    },
    "tags": []
   },
   "outputs": [],
   "source": [
    "pred=grid_search.predict(x_test)"
   ]
  },
  {
   "cell_type": "code",
   "execution_count": 38,
   "id": "e483242c",
   "metadata": {
    "execution": {
     "iopub.execute_input": "2023-10-05T11:38:19.428932Z",
     "iopub.status.busy": "2023-10-05T11:38:19.428357Z",
     "iopub.status.idle": "2023-10-05T11:38:19.621301Z",
     "shell.execute_reply": "2023-10-05T11:38:19.620563Z"
    },
    "papermill": {
     "duration": 0.211939,
     "end_time": "2023-10-05T11:38:19.623331",
     "exception": false,
     "start_time": "2023-10-05T11:38:19.411392",
     "status": "completed"
    },
    "tags": []
   },
   "outputs": [
    {
     "data": {
      "image/png": "[encoded data removed]",
      "text/plain": [
       "<Figure size 640x480 with 1 Axes>"
      ]
     },
     "metadata": {},
     "output_type": "display_data"
    }
   ],
   "source": [
    "mglearn.plots.plot_binary_confusion_matrix()"
   ]
  },
  {
   "cell_type": "code",
   "execution_count": 39,
   "id": "c30a58ed",
   "metadata": {
    "execution": {
     "iopub.execute_input": "2023-10-05T11:38:19.658333Z",
     "iopub.status.busy": "2023-10-05T11:38:19.657795Z",
     "iopub.status.idle": "2023-10-05T11:38:19.665121Z",
     "shell.execute_reply": "2023-10-05T11:38:19.663880Z"
    },
    "papermill": {
     "duration": 0.02735,
     "end_time": "2023-10-05T11:38:19.667532",
     "exception": false,
     "start_time": "2023-10-05T11:38:19.640182",
     "status": "completed"
    },
    "tags": []
   },
   "outputs": [
    {
     "name": "stdout",
     "output_type": "stream",
     "text": [
      "Confusion matrix\n",
      "[[ 997  270]\n",
      " [ 186 1155]]\n"
     ]
    }
   ],
   "source": [
    "from sklearn.metrics import confusion_matrix\n",
    "confusion=confusion_matrix(y_test,pred)\n",
    "print(\"Confusion matrix\\n{}\".format(confusion))"
   ]
  },
  {
   "cell_type": "code",
   "execution_count": 40,
   "id": "c8bffae4",
   "metadata": {
    "execution": {
     "iopub.execute_input": "2023-10-05T11:38:19.702758Z",
     "iopub.status.busy": "2023-10-05T11:38:19.702382Z",
     "iopub.status.idle": "2023-10-05T11:38:19.717708Z",
     "shell.execute_reply": "2023-10-05T11:38:19.716365Z"
    },
    "papermill": {
     "duration": 0.036237,
     "end_time": "2023-10-05T11:38:19.719961",
     "exception": false,
     "start_time": "2023-10-05T11:38:19.683724",
     "status": "completed"
    },
    "tags": []
   },
   "outputs": [
    {
     "name": "stdout",
     "output_type": "stream",
     "text": [
      "              precision    recall  f1-score   support\n",
      "\n",
      "       False       0.84      0.79      0.81      1267\n",
      "        True       0.81      0.86      0.84      1341\n",
      "\n",
      "    accuracy                           0.83      2608\n",
      "   macro avg       0.83      0.82      0.82      2608\n",
      "weighted avg       0.83      0.83      0.82      2608\n",
      "\n"
     ]
    }
   ],
   "source": [
    "from sklearn.metrics import classification_report\n",
    "print(classification_report(y_test,pred,target_names=[\"False\",\"True\"]))"
   ]
  },
  {
   "cell_type": "code",
   "execution_count": 41,
   "id": "14fb6309",
   "metadata": {
    "execution": {
     "iopub.execute_input": "2023-10-05T11:38:19.756292Z",
     "iopub.status.busy": "2023-10-05T11:38:19.755906Z",
     "iopub.status.idle": "2023-10-05T11:38:20.031031Z",
     "shell.execute_reply": "2023-10-05T11:38:20.029934Z"
    },
    "papermill": {
     "duration": 0.295804,
     "end_time": "2023-10-05T11:38:20.033461",
     "exception": false,
     "start_time": "2023-10-05T11:38:19.737657",
     "status": "completed"
    },
    "tags": []
   },
   "outputs": [
    {
     "data": {
      "text/plain": [
       "Text(0, 0.5, 'Recall')"
      ]
     },
     "execution_count": 41,
     "metadata": {},
     "output_type": "execute_result"
    },
    {
     "data": {
      "image/png": "[encoded data removed]",
      "text/plain": [
       "<Figure size 640x480 with 1 Axes>"
      ]
     },
     "metadata": {},
     "output_type": "display_data"
    }
   ],
   "source": [
    " #precision_recall_curve returns a list of precision and recall values for all possible thresholds in sorted order\n",
    "from sklearn.metrics import precision_recall_curve\n",
    "precision,recall,thresholds=precision_recall_curve(y_test,grid_search.decision_function(x_test))\n",
    "# find threshold closest to zero\n",
    "close_zero=np.argmin(np.abs(thresholds))\n",
    "plt.plot(precision[close_zero],recall[close_zero],'o',markersize=10,label=\"threshold zero\",fillstyle=\"none\",c='k',mew=2)\n",
    "plt.plot(precision,recall,label=\"precision recall curve\")\n",
    "plt.xlabel(\"Precision\")\n",
    "plt.ylabel(\"Recall\")"
   ]
  },
  {
   "cell_type": "code",
   "execution_count": 42,
   "id": "3714f78c",
   "metadata": {
    "execution": {
     "iopub.execute_input": "2023-10-05T11:38:20.069696Z",
     "iopub.status.busy": "2023-10-05T11:38:20.069358Z",
     "iopub.status.idle": "2023-10-05T11:38:31.749115Z",
     "shell.execute_reply": "2023-10-05T11:38:31.747962Z"
    },
    "papermill": {
     "duration": 11.701898,
     "end_time": "2023-10-05T11:38:31.753097",
     "exception": false,
     "start_time": "2023-10-05T11:38:20.051199",
     "status": "completed"
    },
    "tags": []
   },
   "outputs": [
    {
     "data": {
      "image/png": "[encoded data removed]",
      "text/plain": [
       "<Figure size 1500x800 with 6 Axes>"
      ]
     },
     "metadata": {},
     "output_type": "display_data"
    }
   ],
   "source": [
    "mglearn.plots.plot_decision_threshold()"
   ]
  },
  {
   "cell_type": "code",
   "execution_count": 43,
   "id": "e45748e8",
   "metadata": {
    "execution": {
     "iopub.execute_input": "2023-10-05T11:38:31.793821Z",
     "iopub.status.busy": "2023-10-05T11:38:31.793424Z",
     "iopub.status.idle": "2023-10-05T11:38:31.813979Z",
     "shell.execute_reply": "2023-10-05T11:38:31.812676Z"
    },
    "papermill": {
     "duration": 0.043607,
     "end_time": "2023-10-05T11:38:31.816083",
     "exception": false,
     "start_time": "2023-10-05T11:38:31.772476",
     "status": "completed"
    },
    "tags": []
   },
   "outputs": [
    {
     "name": "stdout",
     "output_type": "stream",
     "text": [
      "              precision    recall  f1-score   support\n",
      "\n",
      "       False       0.80      0.84      0.82      1267\n",
      "        True       0.84      0.80      0.82      1341\n",
      "\n",
      "    accuracy                           0.82      2608\n",
      "   macro avg       0.82      0.82      0.82      2608\n",
      "weighted avg       0.82      0.82      0.82      2608\n",
      "\n"
     ]
    }
   ],
   "source": [
    "y_pred_threshold=grid_search.decision_function(x_test)>0.2\n",
    "print(classification_report(y_test,y_pred_threshold,target_names=[\"False\",\"True\"]))"
   ]
  },
  {
   "cell_type": "code",
   "execution_count": 44,
   "id": "ec75f325",
   "metadata": {
    "execution": {
     "iopub.execute_input": "2023-10-05T11:38:31.856102Z",
     "iopub.status.busy": "2023-10-05T11:38:31.855707Z",
     "iopub.status.idle": "2023-10-05T11:38:31.865406Z",
     "shell.execute_reply": "2023-10-05T11:38:31.864295Z"
    },
    "papermill": {
     "duration": 0.032359,
     "end_time": "2023-10-05T11:38:31.867622",
     "exception": false,
     "start_time": "2023-10-05T11:38:31.835263",
     "status": "completed"
    },
    "tags": []
   },
   "outputs": [
    {
     "name": "stdout",
     "output_type": "stream",
     "text": [
      "confusion matrix\n",
      "[[1060  207]\n",
      " [ 269 1072]]\n"
     ]
    }
   ],
   "source": [
    "confusion=confusion_matrix(y_test,y_pred_threshold)\n",
    "print(\"confusion matrix\\n{}\".format(confusion))"
   ]
  },
  {
   "cell_type": "markdown",
   "id": "ebbe6910",
   "metadata": {
    "papermill": {
     "duration": 0.019775,
     "end_time": "2023-10-05T11:38:31.908620",
     "exception": false,
     "start_time": "2023-10-05T11:38:31.888845",
     "status": "completed"
    },
    "tags": []
   },
   "source": [
    "# Loading the test data"
   ]
  },
  {
   "cell_type": "code",
   "execution_count": 45,
   "id": "fa27586b",
   "metadata": {
    "execution": {
     "iopub.execute_input": "2023-10-05T11:38:31.950995Z",
     "iopub.status.busy": "2023-10-05T11:38:31.950288Z",
     "iopub.status.idle": "2023-10-05T11:38:31.976725Z",
     "shell.execute_reply": "2023-10-05T11:38:31.975953Z"
    },
    "papermill": {
     "duration": 0.049457,
     "end_time": "2023-10-05T11:38:31.978604",
     "exception": false,
     "start_time": "2023-10-05T11:38:31.929147",
     "status": "completed"
    },
    "tags": []
   },
   "outputs": [
    {
     "name": "stdout",
     "output_type": "stream",
     "text": [
      "x_test shape:(4277, 13)\n"
     ]
    }
   ],
   "source": [
    "data_test=pd.read_csv(r\"G:\\coursera\\projects\\Spaceship Titanic\\test.csv\")\n",
    "print(\"x_test shape:{}\".format(data_test.shape))"
   ]
  },
  {
   "cell_type": "code",
   "execution_count": 46,
   "id": "8c64d4ba",
   "metadata": {
    "execution": {
     "iopub.execute_input": "2023-10-05T11:38:32.021070Z",
     "iopub.status.busy": "2023-10-05T11:38:32.020399Z",
     "iopub.status.idle": "2023-10-05T11:38:32.033531Z",
     "shell.execute_reply": "2023-10-05T11:38:32.032140Z"
    },
    "papermill": {
     "duration": 0.036921,
     "end_time": "2023-10-05T11:38:32.035815",
     "exception": false,
     "start_time": "2023-10-05T11:38:31.998894",
     "status": "completed"
    },
    "tags": []
   },
   "outputs": [
    {
     "name": "stdout",
     "output_type": "stream",
     "text": [
      "<class 'pandas.core.frame.DataFrame'>\n",
      "RangeIndex: 4277 entries, 0 to 4276\n",
      "Data columns (total 13 columns):\n",
      " #   Column        Non-Null Count  Dtype  \n",
      "---  ------        --------------  -----  \n",
      " 0   PassengerId   4277 non-null   object \n",
      " 1   HomePlanet    4190 non-null   object \n",
      " 2   CryoSleep     4184 non-null   object \n",
      " 3   Cabin         4177 non-null   object \n",
      " 4   Destination   4185 non-null   object \n",
      " 5   Age           4186 non-null   float64\n",
      " 6   VIP           4184 non-null   object \n",
      " 7   RoomService   4195 non-null   float64\n",
      " 8   FoodCourt     4171 non-null   float64\n",
      " 9   ShoppingMall  4179 non-null   float64\n",
      " 10  Spa           4176 non-null   float64\n",
      " 11  VRDeck        4197 non-null   float64\n",
      " 12  Name          4183 non-null   object \n",
      "dtypes: float64(6), object(7)\n",
      "memory usage: 434.5+ KB\n"
     ]
    }
   ],
   "source": [
    "data_test.info()"
   ]
  },
  {
   "cell_type": "markdown",
   "id": "6ff1d475",
   "metadata": {
    "papermill": {
     "duration": 0.019511,
     "end_time": "2023-10-05T11:38:32.075440",
     "exception": false,
     "start_time": "2023-10-05T11:38:32.055929",
     "status": "completed"
    },
    "tags": []
   },
   "source": [
    "## cleaning the data set "
   ]
  },
  {
   "cell_type": "code",
   "execution_count": 47,
   "id": "aae978f2",
   "metadata": {
    "execution": {
     "iopub.execute_input": "2023-10-05T11:38:32.116791Z",
     "iopub.status.busy": "2023-10-05T11:38:32.116356Z",
     "iopub.status.idle": "2023-10-05T11:38:32.123614Z",
     "shell.execute_reply": "2023-10-05T11:38:32.122531Z"
    },
    "papermill": {
     "duration": 0.030442,
     "end_time": "2023-10-05T11:38:32.125621",
     "exception": false,
     "start_time": "2023-10-05T11:38:32.095179",
     "status": "completed"
    },
    "tags": []
   },
   "outputs": [],
   "source": [
    "Id_test=data_test.PassengerId\n",
    "data_test=data_test.drop('PassengerId',axis=1)"
   ]
  },
  {
   "cell_type": "code",
   "execution_count": 48,
   "id": "dff02e64",
   "metadata": {
    "execution": {
     "iopub.execute_input": "2023-10-05T11:38:32.167296Z",
     "iopub.status.busy": "2023-10-05T11:38:32.166961Z",
     "iopub.status.idle": "2023-10-05T11:38:32.180842Z",
     "shell.execute_reply": "2023-10-05T11:38:32.180106Z"
    },
    "papermill": {
     "duration": 0.036781,
     "end_time": "2023-10-05T11:38:32.182865",
     "exception": false,
     "start_time": "2023-10-05T11:38:32.146084",
     "status": "completed"
    },
    "tags": []
   },
   "outputs": [],
   "source": [
    "# Split the 'name' column on the space character (`/`)\n",
    "data_test[['deck', 'num','side']] = data_test['Cabin'].str.split('/',expand=True)\n",
    "data_test=data_test.drop(\"Cabin\",axis=1)"
   ]
  },
  {
   "cell_type": "code",
   "execution_count": 49,
   "id": "0fa55134",
   "metadata": {
    "execution": {
     "iopub.execute_input": "2023-10-05T11:38:32.225629Z",
     "iopub.status.busy": "2023-10-05T11:38:32.225086Z",
     "iopub.status.idle": "2023-10-05T11:38:32.229442Z",
     "shell.execute_reply": "2023-10-05T11:38:32.228699Z"
    },
    "papermill": {
     "duration": 0.027905,
     "end_time": "2023-10-05T11:38:32.231481",
     "exception": false,
     "start_time": "2023-10-05T11:38:32.203576",
     "status": "completed"
    },
    "tags": []
   },
   "outputs": [],
   "source": [
    "data_test.columns = data_test.columns.str.strip()"
   ]
  },
  {
   "cell_type": "code",
   "execution_count": 50,
   "id": "3fd3acec",
   "metadata": {
    "execution": {
     "iopub.execute_input": "2023-10-05T11:38:32.272993Z",
     "iopub.status.busy": "2023-10-05T11:38:32.272586Z",
     "iopub.status.idle": "2023-10-05T11:38:32.278355Z",
     "shell.execute_reply": "2023-10-05T11:38:32.277093Z"
    },
    "papermill": {
     "duration": 0.029349,
     "end_time": "2023-10-05T11:38:32.280539",
     "exception": false,
     "start_time": "2023-10-05T11:38:32.251190",
     "status": "completed"
    },
    "tags": []
   },
   "outputs": [],
   "source": [
    "data_test[\"num\"]=data_test['num'].astype(float)"
   ]
  },
  {
   "cell_type": "code",
   "execution_count": 51,
   "id": "5727445d",
   "metadata": {
    "execution": {
     "iopub.execute_input": "2023-10-05T11:38:32.323441Z",
     "iopub.status.busy": "2023-10-05T11:38:32.323101Z",
     "iopub.status.idle": "2023-10-05T11:38:32.351598Z",
     "shell.execute_reply": "2023-10-05T11:38:32.349924Z"
    },
    "papermill": {
     "duration": 0.05263,
     "end_time": "2023-10-05T11:38:32.353582",
     "exception": false,
     "start_time": "2023-10-05T11:38:32.300952",
     "status": "completed"
    },
    "tags": []
   },
   "outputs": [
    {
     "name": "stdout",
     "output_type": "stream",
     "text": [
      "<class 'pandas.core.frame.DataFrame'>\n",
      "RangeIndex: 4277 entries, 0 to 4276\n",
      "Data columns (total 14 columns):\n",
      " #   Column        Non-Null Count  Dtype   \n",
      "---  ------        --------------  -----   \n",
      " 0   Age           4186 non-null   float64 \n",
      " 1   RoomService   4195 non-null   float64 \n",
      " 2   FoodCourt     4171 non-null   float64 \n",
      " 3   ShoppingMall  4179 non-null   float64 \n",
      " 4   Spa           4176 non-null   float64 \n",
      " 5   VRDeck        4197 non-null   float64 \n",
      " 6   num           4177 non-null   float64 \n",
      " 7   HomePlanet    4190 non-null   category\n",
      " 8   CryoSleep     4184 non-null   category\n",
      " 9   Destination   4185 non-null   category\n",
      " 10  VIP           4184 non-null   category\n",
      " 11  Name          4183 non-null   category\n",
      " 12  deck          4177 non-null   category\n",
      " 13  side          4177 non-null   category\n",
      "dtypes: category(7), float64(7)\n",
      "memory usage: 430.0 KB\n"
     ]
    }
   ],
   "source": [
    "#convert object into category\n",
    "data_test = pd.concat([\n",
    "        data_test.select_dtypes([], ['object']),\n",
    "        data_test.select_dtypes(['object']).apply(pd.Series.astype, dtype='category')\n",
    "        ], axis=1)\n",
    "\n",
    "data_test.info()"
   ]
  },
  {
   "cell_type": "code",
   "execution_count": 52,
   "id": "53513a28",
   "metadata": {
    "execution": {
     "iopub.execute_input": "2023-10-05T11:38:32.396941Z",
     "iopub.status.busy": "2023-10-05T11:38:32.396243Z",
     "iopub.status.idle": "2023-10-05T11:38:32.403312Z",
     "shell.execute_reply": "2023-10-05T11:38:32.402290Z"
    },
    "papermill": {
     "duration": 0.030832,
     "end_time": "2023-10-05T11:38:32.405348",
     "exception": false,
     "start_time": "2023-10-05T11:38:32.374516",
     "status": "completed"
    },
    "tags": []
   },
   "outputs": [
    {
     "name": "stdout",
     "output_type": "stream",
     "text": [
      "Age              91\n",
      "RoomService      82\n",
      "FoodCourt       106\n",
      "ShoppingMall     98\n",
      "Spa             101\n",
      "VRDeck           80\n",
      "num             100\n",
      "HomePlanet       87\n",
      "CryoSleep        93\n",
      "Destination      92\n",
      "VIP              93\n",
      "Name             94\n",
      "deck            100\n",
      "side            100\n",
      "dtype: int64\n"
     ]
    }
   ],
   "source": [
    "null= data_test.isna().sum() \n",
    "print(null[null != 0])"
   ]
  },
  {
   "cell_type": "code",
   "execution_count": 53,
   "id": "7a554892",
   "metadata": {
    "execution": {
     "iopub.execute_input": "2023-10-05T11:38:32.448393Z",
     "iopub.status.busy": "2023-10-05T11:38:32.447692Z",
     "iopub.status.idle": "2023-10-05T11:38:32.452614Z",
     "shell.execute_reply": "2023-10-05T11:38:32.451934Z"
    },
    "papermill": {
     "duration": 0.028327,
     "end_time": "2023-10-05T11:38:32.454521",
     "exception": false,
     "start_time": "2023-10-05T11:38:32.426194",
     "status": "completed"
    },
    "tags": []
   },
   "outputs": [],
   "source": [
    "data_test=data_test.drop(\"Name\",axis=1)"
   ]
  },
  {
   "cell_type": "code",
   "execution_count": 54,
   "id": "3d7d5620",
   "metadata": {
    "execution": {
     "iopub.execute_input": "2023-10-05T11:38:32.497464Z",
     "iopub.status.busy": "2023-10-05T11:38:32.496799Z",
     "iopub.status.idle": "2023-10-05T11:38:32.529336Z",
     "shell.execute_reply": "2023-10-05T11:38:32.528249Z"
    },
    "papermill": {
     "duration": 0.056321,
     "end_time": "2023-10-05T11:38:32.531311",
     "exception": false,
     "start_time": "2023-10-05T11:38:32.474990",
     "status": "completed"
    },
    "tags": []
   },
   "outputs": [
    {
     "name": "stderr",
     "output_type": "stream",
     "text": [
      "C:\\ProgramData\\anaconda3\\Lib\\site-packages\\miceforest\\ImputationKernel.py:371: UserWarning: [deck] have very rare categories, it is a good idea to group these, or set the min_data_in_leaf parameter to prevent lightgbm from outputting 0.0 probabilities.\n",
      "  warn(\n"
     ]
    }
   ],
   "source": [
    "#This is a multivariate imputation technique, \n",
    "#meaning that the missing information is filled by taking into consideration the information from the other columns. \n",
    "mice_kernel = ImputationKernel(\n",
    "data = data_test,\n",
    "save_all_iterations = True,\n",
    "random_state = 64,\n",
    ")\n"
   ]
  },
  {
   "cell_type": "code",
   "execution_count": 55,
   "id": "52625a1b",
   "metadata": {
    "execution": {
     "iopub.execute_input": "2023-10-05T11:38:32.573940Z",
     "iopub.status.busy": "2023-10-05T11:38:32.573268Z",
     "iopub.status.idle": "2023-10-05T11:39:03.414513Z",
     "shell.execute_reply": "2023-10-05T11:39:03.413436Z"
    },
    "papermill": {
     "duration": 30.865732,
     "end_time": "2023-10-05T11:39:03.417161",
     "exception": false,
     "start_time": "2023-10-05T11:38:32.551429",
     "status": "completed"
    },
    "tags": []
   },
   "outputs": [],
   "source": [
    "#we run the kernel on the data for two iterations, and finally, create the imputed data.\n",
    "mice_kernel.mice(2)\n",
    "data_test = mice_kernel.complete_data()\n",
    "null= df.isna().sum() \n"
   ]
  },
  {
   "cell_type": "code",
   "execution_count": 56,
   "id": "605b6115",
   "metadata": {
    "execution": {
     "iopub.execute_input": "2023-10-05T11:39:03.458995Z",
     "iopub.status.busy": "2023-10-05T11:39:03.458609Z",
     "iopub.status.idle": "2023-10-05T11:39:03.464333Z",
     "shell.execute_reply": "2023-10-05T11:39:03.463090Z"
    },
    "papermill": {
     "duration": 0.029008,
     "end_time": "2023-10-05T11:39:03.466408",
     "exception": false,
     "start_time": "2023-10-05T11:39:03.437400",
     "status": "completed"
    },
    "tags": []
   },
   "outputs": [],
   "source": [
    "data_test[\"num\"]=data_test['num'].astype(int)"
   ]
  },
  {
   "cell_type": "code",
   "execution_count": 57,
   "id": "2ea5c20f",
   "metadata": {
    "execution": {
     "iopub.execute_input": "2023-10-05T11:39:03.507790Z",
     "iopub.status.busy": "2023-10-05T11:39:03.507391Z",
     "iopub.status.idle": "2023-10-05T11:39:03.520468Z",
     "shell.execute_reply": "2023-10-05T11:39:03.519001Z"
    },
    "papermill": {
     "duration": 0.036424,
     "end_time": "2023-10-05T11:39:03.522531",
     "exception": false,
     "start_time": "2023-10-05T11:39:03.486107",
     "status": "completed"
    },
    "tags": []
   },
   "outputs": [
    {
     "name": "stdout",
     "output_type": "stream",
     "text": [
      "Value counts for column'{column}':\n",
      "HomePlanet\n",
      "Earth     2303\n",
      "Europa    1024\n",
      "Mars       950\n",
      "Name: count, dtype: int64\n",
      "\n",
      "Value counts for column'{column}':\n",
      "CryoSleep\n",
      "False    2700\n",
      "True     1577\n",
      "Name: count, dtype: int64\n",
      "\n",
      "Value counts for column'{column}':\n",
      "Destination\n",
      "TRAPPIST-1e      3021\n",
      "55 Cancri e       860\n",
      "PSO J318.5-22     396\n",
      "Name: count, dtype: int64\n",
      "\n",
      "Value counts for column'{column}':\n",
      "VIP\n",
      "False    4196\n",
      "True       81\n",
      "Name: count, dtype: int64\n",
      "\n",
      "Value counts for column'{column}':\n",
      "deck\n",
      "F    1483\n",
      "G    1258\n",
      "E     458\n",
      "B     367\n",
      "C     360\n",
      "D     245\n",
      "A     100\n",
      "T       6\n",
      "Name: count, dtype: int64\n",
      "\n",
      "Value counts for column'{column}':\n",
      "side\n",
      "S    2147\n",
      "P    2130\n",
      "Name: count, dtype: int64\n",
      "\n"
     ]
    }
   ],
   "source": [
    "# checking string-enccoded categorical data\n",
    "#Selecting only the category columns\n",
    "category_columns=data_test.select_dtypes(include='category')\n",
    "#display the value counts for each category column\n",
    "for column in category_columns:\n",
    "    print(\"Value counts for column'{column}':\")\n",
    "    print(data_test[column].value_counts())\n",
    "    print()"
   ]
  },
  {
   "cell_type": "code",
   "execution_count": 58,
   "id": "1c62233f",
   "metadata": {
    "execution": {
     "iopub.execute_input": "2023-10-05T11:39:03.565217Z",
     "iopub.status.busy": "2023-10-05T11:39:03.564865Z",
     "iopub.status.idle": "2023-10-05T11:39:03.576578Z",
     "shell.execute_reply": "2023-10-05T11:39:03.575642Z"
    },
    "papermill": {
     "duration": 0.03625,
     "end_time": "2023-10-05T11:39:03.578946",
     "exception": false,
     "start_time": "2023-10-05T11:39:03.542696",
     "status": "completed"
    },
    "tags": []
   },
   "outputs": [
    {
     "data": {
      "text/plain": [
       "(4277, 27)"
      ]
     },
     "execution_count": 58,
     "metadata": {},
     "output_type": "execute_result"
    }
   ],
   "source": [
    "data_dummies_test=pd.get_dummies(data_test)\n",
    "data_dummies_test.shape"
   ]
  },
  {
   "cell_type": "code",
   "execution_count": 59,
   "id": "a5d8c757",
   "metadata": {
    "execution": {
     "iopub.execute_input": "2023-10-05T11:39:03.622116Z",
     "iopub.status.busy": "2023-10-05T11:39:03.621711Z",
     "iopub.status.idle": "2023-10-05T11:39:03.632137Z",
     "shell.execute_reply": "2023-10-05T11:39:03.631112Z"
    },
    "papermill": {
     "duration": 0.034511,
     "end_time": "2023-10-05T11:39:03.634229",
     "exception": false,
     "start_time": "2023-10-05T11:39:03.599718",
     "status": "completed"
    },
    "tags": []
   },
   "outputs": [],
   "source": [
    "y_hat_threshold=grid_search.decision_function(data_dummies_test)>0.15"
   ]
  },
  {
   "cell_type": "code",
   "execution_count": 60,
   "id": "0e0c77fc",
   "metadata": {
    "execution": {
     "iopub.execute_input": "2023-10-05T11:39:03.675938Z",
     "iopub.status.busy": "2023-10-05T11:39:03.675544Z",
     "iopub.status.idle": "2023-10-05T11:39:03.684564Z",
     "shell.execute_reply": "2023-10-05T11:39:03.683855Z"
    },
    "papermill": {
     "duration": 0.032182,
     "end_time": "2023-10-05T11:39:03.686413",
     "exception": false,
     "start_time": "2023-10-05T11:39:03.654231",
     "status": "completed"
    },
    "tags": []
   },
   "outputs": [
    {
     "data": {
      "text/html": [
       "<div>\n",
       "<style scoped>\n",
       "    .dataframe tbody tr th:only-of-type {\n",
       "        vertical-align: middle;\n",
       "    }\n",
       "\n",
       "    .dataframe tbody tr th {\n",
       "        vertical-align: top;\n",
       "    }\n",
       "\n",
       "    .dataframe thead th {\n",
       "        text-align: right;\n",
       "    }\n",
       "</style>\n",
       "<table border=\"1\" class=\"dataframe\">\n",
       "  <thead>\n",
       "    <tr style=\"text-align: right;\">\n",
       "      <th></th>\n",
       "      <th>PassengerId</th>\n",
       "      <th>Transported</th>\n",
       "    </tr>\n",
       "  </thead>\n",
       "  <tbody>\n",
       "    <tr>\n",
       "      <th>0</th>\n",
       "      <td>0013_01</td>\n",
       "      <td>True</td>\n",
       "    </tr>\n",
       "    <tr>\n",
       "      <th>1</th>\n",
       "      <td>0018_01</td>\n",
       "      <td>False</td>\n",
       "    </tr>\n",
       "    <tr>\n",
       "      <th>2</th>\n",
       "      <td>0019_01</td>\n",
       "      <td>True</td>\n",
       "    </tr>\n",
       "    <tr>\n",
       "      <th>3</th>\n",
       "      <td>0021_01</td>\n",
       "      <td>True</td>\n",
       "    </tr>\n",
       "    <tr>\n",
       "      <th>4</th>\n",
       "      <td>0023_01</td>\n",
       "      <td>False</td>\n",
       "    </tr>\n",
       "  </tbody>\n",
       "</table>\n",
       "</div>"
      ],
      "text/plain": [
       "  PassengerId  Transported\n",
       "0     0013_01         True\n",
       "1     0018_01        False\n",
       "2     0019_01         True\n",
       "3     0021_01         True\n",
       "4     0023_01        False"
      ]
     },
     "execution_count": 60,
     "metadata": {},
     "output_type": "execute_result"
    }
   ],
   "source": [
    "output_gbrt = pd.DataFrame({'PassengerId': Id_test,\n",
    "                       'Transported': y_hat_threshold})\n",
    "output_gbrt.head()"
   ]
  },
  {
   "cell_type": "code",
   "execution_count": 61,
   "id": "9942f33f",
   "metadata": {
    "execution": {
     "iopub.execute_input": "2023-10-05T11:39:03.730556Z",
     "iopub.status.busy": "2023-10-05T11:39:03.730174Z",
     "iopub.status.idle": "2023-10-05T11:39:03.738599Z",
     "shell.execute_reply": "2023-10-05T11:39:03.737536Z"
    },
    "papermill": {
     "duration": 0.033932,
     "end_time": "2023-10-05T11:39:03.740740",
     "exception": false,
     "start_time": "2023-10-05T11:39:03.706808",
     "status": "completed"
    },
    "tags": []
   },
   "outputs": [
    {
     "data": {
      "text/plain": [
       "Transported\n",
       "False    2153\n",
       "True     2124\n",
       "Name: count, dtype: int64"
      ]
     },
     "execution_count": 61,
     "metadata": {},
     "output_type": "execute_result"
    }
   ],
   "source": [
    "count_values = output_gbrt.Transported.value_counts()\n",
    "count_values"
   ]
  },
  {
   "cell_type": "code",
   "execution_count": 62,
   "id": "75409dae",
   "metadata": {
    "execution": {
     "iopub.execute_input": "2023-10-05T11:39:03.783855Z",
     "iopub.status.busy": "2023-10-05T11:39:03.783479Z",
     "iopub.status.idle": "2023-10-05T11:39:03.797260Z",
     "shell.execute_reply": "2023-10-05T11:39:03.796443Z"
    },
    "papermill": {
     "duration": 0.038612,
     "end_time": "2023-10-05T11:39:03.800031",
     "exception": false,
     "start_time": "2023-10-05T11:39:03.761419",
     "status": "completed"
    },
    "tags": []
   },
   "outputs": [
    {
     "name": "stdout",
     "output_type": "stream",
     "text": [
      "Your submission was successfully saved!\n"
     ]
    }
   ],
   "source": [
    "output_gbrt.to_csv('submission.csv', index=False)\n",
    "print(\"Your submission was successfully saved!\")"
   ]
  },
  {
   "cell_type": "code",
   "execution_count": null,
   "id": "6144b7e4",
   "metadata": {},
   "outputs": [],
   "source": []
  }
 ],
 "metadata": {
  "kernelspec": {
   "display_name": "Python 3 (ipykernel)",
   "language": "python",
   "name": "python3"
  },
  "language_info": {
   "codemirror_mode": {
    "name": "ipython",
    "version": 3
   },
   "file_extension": ".py",
   "mimetype": "text/x-python",
   "name": "python",
   "nbconvert_exporter": "python",
   "pygments_lexer": "ipython3",
   "version": "3.11.9"
  },
  "papermill": {
   "default_parameters": {},
   "duration": 156.62598,
   "end_time": "2023-10-05T11:39:04.644659",
   "environment_variables": {},
   "exception": null,
   "input_path": "__notebook__.ipynb",
   "output_path": "__notebook__.ipynb",
   "parameters": {},
   "start_time": "2023-10-05T11:36:28.018679",
   "version": "2.4.0"
  }
 },
 "nbformat": 4,
 "nbformat_minor": 5
}
